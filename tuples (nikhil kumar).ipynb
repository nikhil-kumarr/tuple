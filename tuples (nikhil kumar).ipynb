{
 "cells": [
  {
   "cell_type": "markdown",
   "id": "4371b760",
   "metadata": {},
   "source": [
    "### 1.\tFind elements frequency in Tuple\n",
    "\n",
    "Sample Input: (4, 5, 4, 5, 6, 6, 5) \n",
    "Output : {4: 2, 5: 3, 6: 2} \n",
    "\n"
   ]
  },
  {
   "cell_type": "code",
   "execution_count": 53,
   "id": "d0356616",
   "metadata": {},
   "outputs": [
    {
     "data": {
      "text/plain": [
       "{4: 2, 5: 2, 6: 2}"
      ]
     },
     "execution_count": 53,
     "metadata": {},
     "output_type": "execute_result"
    }
   ],
   "source": [
    "a=(4, 5, 4, 5, 6, 6, 5)\n",
    "u={}\n",
    "b=a.count(4)\n",
    "c=a.count(5)\n",
    "d=a.count(6)\n",
    "h=(b,c,d)\n",
    "g=[4,5,6]\n",
    "for i in g:\n",
    "    for x in h:\n",
    "        u[i]=x\n",
    "u\n"
   ]
  },
  {
   "cell_type": "code",
   "execution_count": 3,
   "id": "3e82599a",
   "metadata": {},
   "outputs": [
    {
     "data": {
      "text/plain": [
       "{4: 2, 5: 3, 6: 2}"
      ]
     },
     "execution_count": 3,
     "metadata": {},
     "output_type": "execute_result"
    }
   ],
   "source": [
    "#method 2\n",
    "a=(4, 5, 4, 5, 6, 6, 5)\n",
    "b=list(a)\n",
    "c={}\n",
    "for i in b:\n",
    "    c[i]=a.count(i)\n",
    "c    "
   ]
  },
  {
   "cell_type": "markdown",
   "id": "3afc77a5",
   "metadata": {},
   "source": [
    "#### 2.\tPython program to sort a list of tuples alphabetically\n",
    "+ Input: [(\"aaaa\", 28), (\"aa\", 30), (\"bab\", 29), (\"bb\", 21), (\"csa\", \"C\")]\n",
    "+ Output: [('aa', 30), ('aaaa', 28), ('bab', 29), ('bb', 21), ('csa', 'C')]\n",
    "\n"
   ]
  },
  {
   "cell_type": "code",
   "execution_count": 15,
   "id": "e074b4bf",
   "metadata": {},
   "outputs": [
    {
     "data": {
      "text/plain": [
       "[('aa', 30), ('aaaa', 28), ('bab', 29), ('bb', 21), ('csa', 'C')]"
      ]
     },
     "execution_count": 15,
     "metadata": {},
     "output_type": "execute_result"
    }
   ],
   "source": [
    "a= [(\"aaaa\", 28), (\"aa\", 30), (\"bab\", 29), (\"bb\", 21), (\"csa\", \"C\")]\n",
    "a.sort()\n",
    "a"
   ]
  },
  {
   "cell_type": "markdown",
   "id": "e6b791fe",
   "metadata": {},
   "source": [
    "#### 3.\tWrite a Python program to calculate the average value of the numbers in a given tuple of tuples\n",
    "\n",
    "+ Original Tuple:  ((1, 1, -5), (30, -15, 56), (81, -60, -39), (-10, 2, 3))\n",
    "          Average value of the numbers of the said tuple of tuples:\n",
    "\t[25.5, -18.0, 3.75]\n"
   ]
  },
  {
   "cell_type": "code",
   "execution_count": 33,
   "id": "672a5d2f",
   "metadata": {},
   "outputs": [
    {
     "data": {
      "text/plain": [
       "[25.5, -18.0, 3.75]"
      ]
     },
     "execution_count": 33,
     "metadata": {},
     "output_type": "execute_result"
    }
   ],
   "source": [
    "a= ((1, 1, -5), (30, -15, 56), (81, -60, -39), (-10, 2, 3))\n",
    "b=0\n",
    "c=0\n",
    "d=0\n",
    "f=[]\n",
    "for i in a:\n",
    "    b=b+i[0]/4\n",
    "    c=c+i[1]/4\n",
    "    d=d+i[2]/4\n",
    "f.append(b)\n",
    "f.append(c)\n",
    "f.append(d)\n",
    "f\n",
    "\n",
    "    "
   ]
  },
  {
   "cell_type": "code",
   "execution_count": 12,
   "id": "4ee5dcbf",
   "metadata": {},
   "outputs": [
    {
     "data": {
      "text/plain": [
       "[25.5, -18.0, 3.75]"
      ]
     },
     "execution_count": 12,
     "metadata": {},
     "output_type": "execute_result"
    }
   ],
   "source": [
    "#method2\n",
    "a= ((1, 1, -5), (30, -15, 56), (81, -60, -39), (-10, 2, 3))\n",
    "b=[]\n",
    "for i in zip(*a):\n",
    "    v=sum(i)/len(i)\n",
    "    b.append(v)\n",
    "b    "
   ]
  },
  {
   "cell_type": "code",
   "execution_count": null,
   "id": "f2369801",
   "metadata": {},
   "outputs": [],
   "source": []
  },
  {
   "cell_type": "code",
   "execution_count": null,
   "id": "b35ef186",
   "metadata": {},
   "outputs": [],
   "source": []
  }
 ],
 "metadata": {
  "kernelspec": {
   "display_name": "Python 3 (ipykernel)",
   "language": "python",
   "name": "python3"
  },
  "language_info": {
   "codemirror_mode": {
    "name": "ipython",
    "version": 3
   },
   "file_extension": ".py",
   "mimetype": "text/x-python",
   "name": "python",
   "nbconvert_exporter": "python",
   "pygments_lexer": "ipython3",
   "version": "3.9.13"
  }
 },
 "nbformat": 4,
 "nbformat_minor": 5
}
